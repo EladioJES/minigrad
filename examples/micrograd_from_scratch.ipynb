{
 "cells": [
  {
   "cell_type": "code",
   "execution_count": 1,
   "id": "237d1e52-472c-4a1b-8476-2f564e601ca9",
   "metadata": {
    "editable": false,
    "slideshow": {
     "slide_type": "slide"
    },
    "tags": []
   },
   "outputs": [],
   "source": [
    "import numpy as np\n",
    "import math\n",
    "import matplotlib.pyplot as plt\n",
    "%matplotlib inline"
   ]
  },
  {
   "cell_type": "markdown",
   "id": "a2c75172-01d1-478a-bbf8-0ec8f6270d7a",
   "metadata": {},
   "source": [
    "## Definition of the `Value` class "
   ]
  },
  {
   "cell_type": "markdown",
   "id": "2dc7cb7e-789e-4c0e-a245-4e0287979643",
   "metadata": {},
   "source": [
    "The `Value` class implements the data structure necessary to support the mathematical expressions underpinning neural networks"
   ]
  },
  {
   "cell_type": "code",
   "execution_count": 2,
   "id": "6cd09c1e-3bdb-40be-bde2-e9b862adb243",
   "metadata": {},
   "outputs": [],
   "source": [
    "class Value:\n",
    "\n",
    "    def __init__(self, data, _children=(), _op='', label=''):\n",
    "        self.data = data\n",
    "        self.grad = 0.0\n",
    "        self._backward = lambda: None\n",
    "        self._prev = set(_children)\n",
    "        self._op = _op\n",
    "        self.label = label\n",
    "    \n",
    "    def __repr__(self):\n",
    "        return f\"Value(data={self.data})\"\n",
    "    \n",
    "    def __add__(self, other):\n",
    "        other = other if isinstance(other, Value) else Value(other)\n",
    "        out = Value(self.data + other.data, (self, other), '+')\n",
    "        \n",
    "        def _backward():\n",
    "            self.grad += 1.0*out.grad\n",
    "            other.grad += 1.0*out.grad\n",
    "        out._backward = _backward\n",
    "        \n",
    "        return out\n",
    "\n",
    "    def __radd__(self, other):\n",
    "        return self + other\n",
    "\n",
    "    def __mul__(self, other):\n",
    "        other = other if isinstance(other, Value) else Value(other)\n",
    "        out = Value(self.data * other.data, (self, other), '*')\n",
    "\n",
    "        def _backward():\n",
    "            self.grad += other.data*out.grad\n",
    "            other.grad += self.data*out.grad\n",
    "        out._backward = _backward\n",
    "        \n",
    "        return out\n",
    "\n",
    "    def __rmul__(self, other): # other * self\n",
    "        return self * other\n",
    "\n",
    "    def __pow__(self, other):\n",
    "        assert isinstance(other, (int, float)), \"only supporting int/float powers for now\"\n",
    "        out = Value(self.data**other, (self,), f'**{other}')\n",
    "\n",
    "        def _backward():\n",
    "            self.grad += (other * self.data ** (other -1)) * out.grad\n",
    "        out._backward = _backward\n",
    "\n",
    "        return out\n",
    "    \n",
    "    def __truediv__(self, other): # self / other\n",
    "        return self * other**-1\n",
    "\n",
    "    def __neg__(self): #-self\n",
    "        return self * -1\n",
    "\n",
    "    def __sub__(self, other): # self - other\n",
    "        return self + (-other)\n",
    "    \n",
    "    def tanh(self):\n",
    "        t = math.tanh(self.data)\n",
    "        out = Value(t, (self, ), 'tanh')\n",
    "\n",
    "        def _backward():\n",
    "            self.grad += (1 - t**2)*out.grad\n",
    "        out._backward = _backward\n",
    "        \n",
    "        return out \n",
    "\n",
    "    def exp(self):\n",
    "        x = self.data\n",
    "        out = Value(math.exp(x), (self, ), 'exp')\n",
    "        \n",
    "        def _backward():\n",
    "            self.grad += out.data * out.grad\n",
    "        out._backward = _backward\n",
    "\n",
    "        return out\n",
    "\n",
    "    def backward(self):\n",
    "        topo = []\n",
    "        visited = set()\n",
    "        def build_topo(v):\n",
    "            if v not in visited:\n",
    "                visited.add(v)\n",
    "                for child in v._prev:\n",
    "                    build_topo(child)\n",
    "                topo.append(v)\n",
    "        build_topo(self)\n",
    "\n",
    "        self.grad = 1.0\n",
    "\n",
    "        for node in reversed(topo):\n",
    "            node._backward()"
   ]
  },
  {
   "cell_type": "markdown",
   "id": "d66f65af-a7a9-4ef5-9f38-ece37cbc5122",
   "metadata": {},
   "source": [
    "## GraphViz function"
   ]
  },
  {
   "cell_type": "code",
   "execution_count": 3,
   "id": "fe9b9a39-dbfd-44f9-8b96-88a43b7ce08f",
   "metadata": {},
   "outputs": [],
   "source": [
    "from graphviz import Digraph\n",
    "\n",
    "def trace(root):\n",
    "    nodes, edges = set(), set()\n",
    "    def build(v):\n",
    "        if v not in nodes:\n",
    "            nodes.add(v)\n",
    "            for child in v._prev:\n",
    "                edges.add((child, v))\n",
    "                build(child)\n",
    "    build(root)\n",
    "    return nodes, edges\n",
    "\n",
    "def draw_dot(root, format='svg', rankdir='LR'):\n",
    "    \"\"\"\n",
    "    format: png | svg | ...\n",
    "    rankdir: TB (top to bottom graph) | LR (left to right)\n",
    "    \"\"\"\n",
    "    assert rankdir in ['LR', 'TB']\n",
    "    nodes, edges = trace(root)\n",
    "    dot = Digraph(format=format, graph_attr={'rankdir': rankdir}) #, node_attr={'rankdir': 'TB'})\n",
    "    \n",
    "    # for n in nodes:\n",
    "    #     dot.node(name=str(id(n)), label = \"{ data %.4f | grad %.4f }\" % (n.data, n.grad), shape='record')\n",
    "    #     if n._op:\n",
    "    #         dot.node(name=str(id(n)) + n._op, label=n._op)\n",
    "    #         dot.edge(str(id(n)) + n._op, str(id(n)))\n",
    "    for n in nodes:\n",
    "        dot.node(name=str(id(n)), label = \"{ %s | data %.4f | grad %.4f}\" % (n.label, n.data, n.grad), shape='record')\n",
    "        if n._op:\n",
    "            dot.node(name=str(id(n)) + n._op, label=n._op)\n",
    "            dot.edge(str(id(n)) + n._op, str(id(n)))\n",
    "    \n",
    "    for n1, n2 in edges:\n",
    "        dot.edge(str(id(n1)), str(id(n2)) + n2._op)\n",
    "    \n",
    "    return dot"
   ]
  },
  {
   "cell_type": "markdown",
   "id": "af3e36ba-2001-45e7-9e87-5538b9aa75e3",
   "metadata": {},
   "source": [
    "We can call `draw_dot` on some root node and visualize it."
   ]
  },
  {
   "cell_type": "markdown",
   "id": "ceae3783-4984-4ed6-87b4-5b721fcfea09",
   "metadata": {},
   "source": [
    "## Develop"
   ]
  },
  {
   "cell_type": "markdown",
   "id": "fed0428d-f664-4c25-9759-ab0d75f900a4",
   "metadata": {},
   "source": [
    "In the graphs we visualize every data and every operation that's carried from the inputs the output. All that information is contained in the `Value` objects and must be calculated."
   ]
  },
  {
   "cell_type": "code",
   "execution_count": 4,
   "id": "9e5e39b7-2baf-4bdb-9017-aeb47fe277b5",
   "metadata": {},
   "outputs": [],
   "source": [
    "import random"
   ]
  },
  {
   "cell_type": "code",
   "execution_count": 78,
   "id": "55af11fb-7e7a-47c9-857a-6205e6dbcbf6",
   "metadata": {},
   "outputs": [],
   "source": [
    "class Neuron:\n",
    "\n",
    "    def __init__(self, nin):\n",
    "        self.w = [Value(random.uniform(-1, 1)) for _ in range(nin)]\n",
    "        self.b = Value(random.uniform(-1,1))\n",
    "\n",
    "    def __call__(self, x):\n",
    "        act = sum((wi*xi for wi, xi in zip(self.w, x)), self.b)\n",
    "        out = act.tanh()\n",
    "        return out\n",
    "\n",
    "    def parameters(self):\n",
    "        return self.w + [self.b]\n",
    "\n",
    "\n",
    "class Layer:\n",
    "\n",
    "    def __init__(self, nin, nout):\n",
    "        self.neurons = [Neuron(nin) for _ in range(nout)]\n",
    "\n",
    "    def __call__(self, x):\n",
    "        outs = [n(x) for n in self.neurons]\n",
    "        return outs[0] if len(outs) == 1 else outs\n",
    "\n",
    "    def parameters(self):\n",
    "        return [p for neuron in self.neurons for p in neuron.parameters()]\n",
    "        # params=[]\n",
    "        # for neuron in self.neurons:\n",
    "        #     ps = neuron.parameters()\n",
    "        #     params.extend(ps)\n",
    "        # return params\n",
    "\n",
    "class MLP:\n",
    "\n",
    "    def __init__(self, nin, nouts):\n",
    "        sz = [nin] + nouts\n",
    "        self.layers = [Layer(sz[i], sz[i+1]) for i in range(len(nouts))]\n",
    "\n",
    "    def __call__(self, x):\n",
    "        for layer in self.layers:\n",
    "            x = layer(x)\n",
    "        return x\n",
    "\n",
    "    def parameters(self):\n",
    "        return [p for layer in self.layers for p in layer.parameters()]\n",
    "\n",
    "    def zero_grad(self):\n",
    "        for p in self.parameters():\n",
    "            p.grad=0\n",
    "\n",
    "    def update_params(self, learning_rate:float = 0.05):\n",
    "        for p in self.parameters():\n",
    "            p.data += -learning_rate * p.grad\n",
    "\n",
    "    def training_loop(self, X, y, epochs = 10, learning_rate = 0.05):\n",
    "        print(epochs)\n",
    "        epoch_loss = []\n",
    "        for i in range(epochs):\n",
    "            ypred = [self.__call__(x) for x in X]\n",
    "            loss = sum([(yout-ygt)**2 for ygt, yout in zip(y, ypred)])\n",
    "            epoch_loss.append(loss.data)\n",
    "            if i%10 ==0:\n",
    "                print(f'Epoch {i} | Loss {loss.data}')\n",
    "            self.zero_grad()\n",
    "            loss.backward()\n",
    "            self.update_params(learning_rate)\n",
    "        print(f'Epoch {i} | Loss {loss}')\n",
    "\n",
    "        plt.plot(epoch_loss)\n",
    "        plt.xlabel('Epoch')\n",
    "        plt.ylabel('Loss')\n",
    "        # return epoch_loss\n",
    "        "
   ]
  },
  {
   "cell_type": "code",
   "execution_count": 48,
   "id": "28f053ce-8cb7-495a-868c-6176656c277d",
   "metadata": {},
   "outputs": [],
   "source": [
    "mlp = MLP(3, [4, 4, 1])\n",
    "# x=[2.0, 3.0, -1.0]\n",
    "# o = mlp(x)"
   ]
  },
  {
   "cell_type": "code",
   "execution_count": 49,
   "id": "184e9e8a-4705-4bc7-a7be-1aac6da299f6",
   "metadata": {},
   "outputs": [
    {
     "data": {
      "text/plain": [
       "41"
      ]
     },
     "execution_count": 49,
     "metadata": {},
     "output_type": "execute_result"
    }
   ],
   "source": [
    "len(mlp.parameters())"
   ]
  },
  {
   "cell_type": "code",
   "execution_count": 50,
   "id": "8ad4296d-566b-4d83-b200-03a1cb98e66d",
   "metadata": {},
   "outputs": [],
   "source": [
    "xs = [\n",
    "    [2.0, 3.0, -1.0],\n",
    "    [3.0, -1.0, 0.5],\n",
    "    [0.5, 1.0, 1.0],\n",
    "    [1.0, 1.0, -1.0]\n",
    "]\n",
    "ys = [1.0, -1.0, -1.0, 1.0]"
   ]
  },
  {
   "cell_type": "code",
   "execution_count": 51,
   "id": "02af877c-f3ac-4f19-8a21-ce5299c725bc",
   "metadata": {},
   "outputs": [
    {
     "name": "stdout",
     "output_type": "stream",
     "text": [
      "10\n",
      "Epoch 0 | Loss 6.298350531892535\n",
      "Epoch 9 | Loss Value(data=0.040814397238130545)\n"
     ]
    },
    {
     "data": {
      "image/png": "[encoded data removed]",
      "text/plain": [
       "<Figure size 640x480 with 1 Axes>"
      ]
     },
     "metadata": {},
     "output_type": "display_data"
    }
   ],
   "source": [
    "mlp.training_loop(xs, ys, 10, 0.1)"
   ]
  },
  {
   "cell_type": "code",
   "execution_count": 67,
   "id": "f4e4a4e6-3890-4a6e-910a-31e35a6edbc5",
   "metadata": {},
   "outputs": [
    {
     "data": {
      "image/png": "[encoded data removed]",
      "text/plain": [
       "<Figure size 500x500 with 1 Axes>"
      ]
     },
     "metadata": {},
     "output_type": "display_data"
    }
   ],
   "source": [
    "from sklearn.datasets import make_moons, make_blobs\n",
    "X, y = make_moons(n_samples=100, noise=0.1)\n",
    "\n",
    "y = y*2 - 1 # make y be -1 or 1\n",
    "# visualize in 2D\n",
    "plt.figure(figsize=(5,5))\n",
    "plt.scatter(X[:,0], X[:,1], c=y, s=20, cmap='jet');"
   ]
  },
  {
   "cell_type": "code",
   "execution_count": 68,
   "id": "3324bd72-707f-449d-810f-d7b45b96734b",
   "metadata": {},
   "outputs": [
    {
     "data": {
      "text/plain": [
       "array([-1,  1, -1,  1,  1,  1,  1, -1, -1,  1, -1,  1, -1, -1,  1,  1,  1,\n",
       "        1,  1, -1,  1,  1, -1,  1,  1,  1, -1, -1,  1, -1,  1, -1, -1, -1,\n",
       "       -1,  1,  1, -1, -1, -1,  1, -1, -1, -1,  1,  1, -1, -1,  1,  1, -1,\n",
       "       -1,  1, -1,  1,  1, -1,  1, -1, -1,  1, -1,  1,  1, -1,  1, -1, -1,\n",
       "       -1, -1, -1,  1, -1,  1, -1,  1,  1,  1, -1, -1, -1,  1,  1, -1, -1,\n",
       "        1, -1,  1,  1, -1, -1,  1,  1,  1,  1, -1,  1, -1,  1, -1])"
      ]
     },
     "execution_count": 68,
     "metadata": {},
     "output_type": "execute_result"
    }
   ],
   "source": [
    "y"
   ]
  },
  {
   "cell_type": "code",
   "execution_count": 76,
   "id": "c1e40d7b-704b-44c1-9143-78f28e824aba",
   "metadata": {},
   "outputs": [],
   "source": [
    "model = MLP(2, [2,1])"
   ]
  },
  {
   "cell_type": "code",
   "execution_count": 77,
   "id": "a7c294ae-3af8-4c01-a1e2-5cbf40645fae",
   "metadata": {},
   "outputs": [
    {
     "name": "stdout",
     "output_type": "stream",
     "text": [
      "100\n",
      "Epoch 0 | Loss 193.6351993780172\n",
      "Epoch 10 | Loss 95.80548469328744\n",
      "Epoch 20 | Loss 38.505935419475286\n",
      "Epoch 30 | Loss 35.39490628732693\n",
      "Epoch 40 | Loss 35.09286264101859\n",
      "Epoch 50 | Loss 35.020622004143476\n",
      "Epoch 60 | Loss 34.98523112276997\n",
      "Epoch 70 | Loss 34.957541453213544\n",
      "Epoch 80 | Loss 34.93196313338826\n",
      "Epoch 90 | Loss 34.90729748314836\n",
      "Epoch 99 | Loss Value(data=34.885621181965114)\n"
     ]
    },
    {
     "data": {
      "image/png": "[encoded data removed]",
      "text/plain": [
       "<Figure size 640x480 with 1 Axes>"
      ]
     },
     "metadata": {},
     "output_type": "display_data"
    }
   ],
   "source": [
    "model.training_loop(X, y, 100, 0.005)"
   ]
  }
 ],
 "metadata": {
  "kernelspec": {
   "display_name": "Python 3 (ipykernel)",
   "language": "python",
   "name": "python3"
  },
  "language_info": {
   "codemirror_mode": {
    "name": "ipython",
    "version": 3
   },
   "file_extension": ".py",
   "mimetype": "text/x-python",
   "name": "python",
   "nbconvert_exporter": "python",
   "pygments_lexer": "ipython3",
   "version": "3.11.5"
  }
 },
 "nbformat": 4,
 "nbformat_minor": 5
}
